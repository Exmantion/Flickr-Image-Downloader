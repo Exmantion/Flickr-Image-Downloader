{
  "cells": [
    {
      "cell_type": "markdown",
      "metadata": {
        "id": "dHf6uX2jcw_r"
      },
      "source": [
        "# Check Github for more info:\n",
        "https://github.com/Exmantion/Flickr-Image-Downloader/\n",
        "\n",
        "This script is meant only for personal use, just to enjoy your eyes with beautiful wallpapers."
      ]
    },
    {
      "cell_type": "code",
      "execution_count": 1,
      "metadata": {
        "colab": {
          "base_uri": "https://localhost:8080/"
        },
        "id": "j_xzQ-L8cY7l",
        "outputId": "eba527ba-6229-4f8e-f0f1-5b61edd1bff1"
      },
      "outputs": [
        {
          "name": "stdout",
          "output_type": "stream",
          "text": [
            "sample_data\n"
          ]
        }
      ],
      "source": [
        "#run here first (shift+enter)\n",
        "!ls"
      ]
    },
    {
      "cell_type": "markdown",
      "metadata": {
        "id": "XKCE_nvOcnmV"
      },
      "source": [
        "# Allowed URLS"
      ]
    },
    {
      "cell_type": "code",
      "execution_count": 2,
      "metadata": {
        "id": "TYIbOVhZcg-u"
      },
      "outputs": [],
      "source": [
        "### accepted urls:\n",
        "urlss= ''' [ \n",
        "https://www.flickr.com/photos/wernerkrause/52427331246/sizes/l/\n",
        "https://www.flickr.com/photos/wernerkrause/52427331246/\n",
        "https://www.flickr.com/photos/wernerkrause/52427331246\n",
        "https://www.flickr.com/photos/steffe/52491777467/in/contacts/\n",
        "]'''"
      ]
    },
    {
      "cell_type": "markdown",
      "metadata": {
        "id": "RI65f4eDcn-V"
      },
      "source": [
        "# How-To"
      ]
    },
    {
      "cell_type": "code",
      "execution_count": null,
      "metadata": {
        "id": "c7tizUexcoDV"
      },
      "outputs": [],
      "source": [
        "# Run first cell ^\n",
        "# execute Options cell below\n",
        "# run below code 'The script' section\n",
        "# on the left tab there is a folder icon, click it\n",
        "# click refresh \n",
        "# Paste all urls into input_url.txt file and ctrl+s\n",
        "# run 'The script' section again\n",
        "# next cell contains option to pack all of the photos into zip for easier downloading"
      ]
    },
    {
      "cell_type": "markdown",
      "metadata": {
        "id": "TymJXQcCcoJc"
      },
      "source": [
        "# Options"
      ]
    },
    {
      "cell_type": "code",
      "execution_count": 7,
      "metadata": {
        "id": "hgw7KLsRcoN8"
      },
      "outputs": [],
      "source": [
        "FlickrFileNames = True \n",
        "  # False means file names of each photo will be with numbers, as in Flickr database states\n",
        "  # True means title of the photo from main page, useful for further debugging or to find author of the photo\n",
        "Debugging = 2 #0,1(default),2\n",
        "  # 0 means that the output of below cell will output only final info\n",
        "  # 1 means info of each downlaoded photo will be progressively displayed\n",
        "  # 2 means all debbuging will also be saved in txt file called debugging.txt\n",
        "DownloadFiles = True\n",
        "  # Download photos yes or no\n",
        "  # Helpful in case of Debugging "
      ]
    },
    {
      "cell_type": "markdown",
      "metadata": {
        "id": "PkB34xeMc8jp"
      },
      "source": [
        "# The script"
      ]
    },
    {
      "cell_type": "code",
      "execution_count": 4,
      "metadata": {
        "id": "ALGcz4Doc8oJ"
      },
      "outputs": [],
      "source": [
        "import requests\n",
        "import re\n",
        "from datetime import datetime\n",
        "exported_file = 'exported_urls.txt'\n",
        "input_urls = 'input_urls.txt'\n",
        "if Debugging == 2:\n",
        "  debugging_file = 'debugging.txt'\n",
        "  !touch $debugging_file\n",
        "  debug = open(debugging_file, 'w')\n",
        "!touch $input_urls\n",
        "!touch $exported_file\n",
        "input_urls_var = open(input_urls, 'r')\n",
        "outputted_file = open(exported_file, 'w')\n",
        "output_folder_name = 'gathered'\n",
        "!mkdir -p $output_folder_name\n",
        "statisctics = [0,0] #[success, error]\n",
        "nr_of_photo = 1\n",
        "if FlickrFileNames:\n",
        "  custom_file_names = set()\n",
        "seen = set()#find duplicates\n",
        "duplicates_counter = 0\n",
        "links_count = 0\n",
        "for line in input_urls_var:\n",
        "  if line.strip() in seen:\n",
        "    duplicates_counter += 1\n",
        "  else:\n",
        "    seen.add(line.strip())\n",
        "    links_count += 1\n",
        "if Debugging > 0 and duplicates_counter>0:\n",
        "  print(f\"{duplicates_counter} duplicates were found and removed, photos to download: {links_count}\\n\")\n",
        "if Debugging == 2:\n",
        "  debug.write(f\"{duplicates_counter} duplicates were found and removed, photos to download: {links_count}\\n\\n\")\n",
        "\n",
        "for url in seen:\n",
        "  url = url.replace('\\n',\"\")\n",
        "  if Debugging > 0:\n",
        "    print(f\"{nr_of_photo}: Gathering data for: {url}\")\n",
        "  if Debugging == 2:\n",
        "    debug.write(f\"{nr_of_photo}: Gathering data for: {url}\\n\")\n",
        "\n",
        "  if url.rfind(\"sizes\") != -1: #check if photo link is in change sizes site\n",
        "    url = url[0:url.rfind(\"sizes\")]\n",
        "    if Debugging > 0:\n",
        "      print(\"\\tURL has been corrected\")\n",
        "    if Debugging == 2:\n",
        "      debug.write(f\"\\tURL has been corrected\\n\")\n",
        "\n",
        "  html = requests.get(url).text\n",
        "  output = []\n",
        "  searchstring ='params: {\"photoModel\":'\n",
        "  for line in iter(html.splitlines()):\n",
        "    if searchstring in line:\n",
        "      output.append(line)\n",
        "  try:\n",
        "    output = output[0][13:]\n",
        "  except IndexError:\n",
        "    if Debugging > 0:\n",
        "      print(\"\\tPhoto could not be obtained, wrong address probably\")\n",
        "    if Debugging == 2:\n",
        "      debug.write(f\"\\tPhoto could not be obtained, wrong address probably\\n\")\n",
        "    statisctics[1] += 1\n",
        "    continue\n",
        "  if Debugging > 0:\n",
        "    print(\"\\tGathered source... continuing\")\n",
        "  if Debugging == 2:\n",
        "    debug.write(f\"\\tGathered source... continuing\\n\")\n",
        "\n",
        "  false = False\n",
        "  true = True\n",
        "  null = -1\n",
        "  outputdict = dict(eval(output))[\"photoModel\"]['sizes']\n",
        "  all_sizes = list(outputdict.keys())\n",
        "  raw_url = outputdict[all_sizes[-1]]['src']\n",
        "  direct_url = 'https://' + raw_url.replace('\\/', '/')[2:]\n",
        "  if Debugging > 0:\n",
        "    print(f\"\\tAll image sizes available: {all_sizes}\")\n",
        "    print(f\"\\tDirect url: {direct_url}, raw url for debugging: {raw_url}\")\n",
        "  if Debugging == 2:\n",
        "    debug.write(f\"\\tAll image sizes available: {all_sizes}\\n\")\n",
        "    debug.write(f\"\\tDirect url: {direct_url}, raw url for debugging: {raw_url}\\n\")\n",
        "\n",
        "  if FlickrFileNames:\n",
        "    try:\n",
        "      titled_name = html[html.find('<title>'):html.find('</title>')].replace(\"<title>\", '')\n",
        "      # titled_name = titled_name[:titled_name.find(' |')].replace(' ','_').replace(\"'\",\"\").replace(\"(\", '').replace(\")\",'').replace(\"-\", \"_\")\n",
        "      titled_name = titled_name[:titled_name.find(' |')]\n",
        "      titled_name = re.sub('[^a-zA-Z0-9 \\n\\.]', '', titled_name).replace('.','').replace(' ','_')\n",
        "      if titled_name[:8] == 'Untitled':\n",
        "        titled_name = titled_name + \"_\" + str(datetime.now().strftime(\"%d%m%Y_%H%M%S%f\"))\n",
        "      titled_name = f'{titled_name}_{str(all_sizes[-1])}{direct_url[direct_url.rfind(\".\"):] }'\n",
        "      titled_name = re.sub(r'&#x\\.\\.;',r'_', titled_name) \n",
        "    except:\n",
        "      titled_name = f'NoCuteFilenameFound.{direct_url[direct_url.rfind(\".\"):]}'\n",
        "      \n",
        "    #check if photo title was a duplicate \n",
        "    if titled_name in custom_file_names:\n",
        "      titled_name = titled_name[:titled_name.find(\".\")] + \"_\" + str(datetime.now().strftime(\"%d%m%Y_%H%M%S%f\")) + titled_name[titled_name.find(\".\"):]\n",
        "      custom_file_names.add(titled_name)\n",
        "    else:\n",
        "      custom_file_names.add(titled_name)\n",
        "    \n",
        "    if Debugging == 0:\n",
        "      if DownloadFiles:\n",
        "        !wget $direct_url --output-document=$titled_name >> /dev/null 2>&1 \n",
        "    elif Debugging == 1:\n",
        "      print(f\"\\tCustom filename: {titled_name}\")\n",
        "      if DownloadFiles:\n",
        "        !wget $direct_url --output-document=$titled_name >> /dev/null 2>&1 | printf \"File saved with a cute custom filename!\"\n",
        "    elif Debugging == 2:\n",
        "      print(f\"\\tCustom filename: {titled_name}\")\n",
        "      if DownloadFiles:\n",
        "        !wget $direct_url --output-document=$titled_name >> /dev/null 2>&1 | printf \"File saved with a cute custom filename!\"\n",
        "      debug.write(f\"\\tCustom filename: {titled_name}\\n\")\n",
        "      debug.write(\"\\tFile saved with a cute custom filename!\\n\") \n",
        "    if DownloadFiles:\n",
        "      !mv $titled_name $output_folder_name/$titled_name  # --directory-prefix=$output_folder_name\n",
        "  else:\n",
        "    if Debugging ==0:\n",
        "      if DownloadFiles:\n",
        "        !wget $direct_url -P $output_folder_name >> /dev/null 2>&1\n",
        "    elif Debugging == 1:\n",
        "      if DownloadFiles:\n",
        "        !wget $direct_url -P $output_folder_name >> /dev/null 2>&1 | printf \"File saved!\"\n",
        "    elif Debugging == 2:\n",
        "      if DownloadFiles:\n",
        "        !wget $direct_url -P $output_folder_name >> /dev/null 2>&1 | printf \"File saved!\"\n",
        "      debug.write(\"File saved!\") \n",
        "  nr_of_photo += 1\n",
        "  outputted_file.write(direct_url+'\\n')\n",
        "  statisctics[0] += 1\n",
        "  print(f\"\\n\")\n",
        "\n",
        "try:\n",
        "  if sum(statisctics) != links_count:\n",
        "    print(\"some files were not downloaded\")\n",
        "  print(f\"Total files requested: {links_count} ({sum(statisctics)}), Success: {statisctics[0]}, Errors: {statisctics[1]}\\nSuccess percentage: {statisctics[0]/sum(statisctics)*100:.2f}%\")\n",
        "  if Debugging == 2:\n",
        "    debug.write(f\"Total files requested: {links_count} ({sum(statisctics)}), Success: {statisctics[0]}, Errors: {statisctics[1]}\\nSuccess percentage: {statisctics[0]/sum(statisctics)*100:.2f}%\")\n",
        "except ZeroDivisionError:\n",
        "  pass\n",
        "\n",
        "input_urls_var.close()\n",
        "outputted_file.close()\n",
        "if Debugging == 2:\n",
        "  debug.close()"
      ]
    },
    {
      "cell_type": "markdown",
      "metadata": {
        "id": "GUNGuAdKc8sp"
      },
      "source": [
        "# Create zip with all downloaded files"
      ]
    },
    {
      "cell_type": "code",
      "execution_count": 5,
      "metadata": {
        "colab": {
          "base_uri": "https://localhost:8080/",
          "height": 36
        },
        "id": "K6fSbrYoc8xZ",
        "outputId": "558dae0e-9fec-4026-ce15-0137643426ec"
      },
      "outputs": [
        {
          "data": {
            "application/vnd.google.colaboratory.intrinsic+json": {
              "type": "string"
            },
            "text/plain": [
              "'/content/gathered_01012023_175125.zip'"
            ]
          },
          "execution_count": 5,
          "metadata": {},
          "output_type": "execute_result"
        }
      ],
      "source": [
        "import shutil\n",
        "archive_name = f'{output_folder_name + \"_\" + str(datetime.now().strftime(\"%d%m%Y_%H%M%S\"))}'\n",
        "!cp -f $exported_file $output_folder_name/$exported_file\n",
        "if Debugging == 2:\n",
        "  !cp -f $debugging_file $output_folder_name/$debugging_file\n",
        "shutil.make_archive(archive_name, 'zip', output_folder_name)"
      ]
    },
    {
      "cell_type": "markdown",
      "metadata": {
        "id": "DKDduBn1dMoY"
      },
      "source": [
        "# Start all over again\n"
      ]
    },
    {
      "cell_type": "code",
      "execution_count": 6,
      "metadata": {
        "colab": {
          "base_uri": "https://localhost:8080/"
        },
        "id": "Be1fFt2ZdMs_",
        "outputId": "4225c347-9836-42f1-d826-d9e57a239ba9"
      },
      "outputs": [
        {
          "name": "stdout",
          "output_type": "stream",
          "text": [
            "rm: cannot remove '*.jpg': No such file or directory\n",
            "rm: cannot remove '*.png': No such file or directory\n"
          ]
        }
      ],
      "source": [
        "!rm -r gathered \n",
        "!rm *.zip\n",
        "!rm *.txt\n",
        "!rm *.jpg\n",
        "!rm *.png"
      ]
    },
    {
      "cell_type": "code",
      "execution_count": null,
      "metadata": {
        "id": "_ZFdOkyGdbxs"
      },
      "outputs": [],
      "source": []
    }
  ],
  "metadata": {
    "colab": {
      "provenance": []
    },
    "kernelspec": {
      "display_name": "Python 3",
      "name": "python3"
    },
    "language_info": {
      "name": "python"
    }
  },
  "nbformat": 4,
  "nbformat_minor": 0
}
